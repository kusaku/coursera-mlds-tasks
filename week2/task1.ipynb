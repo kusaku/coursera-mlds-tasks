{
 "cells": [
  {
   "cell_type": "code",
   "execution_count": 1,
   "metadata": {},
   "outputs": [],
   "source": [
    "import collections, itertools, re\n",
    "import numpy as np\n",
    "from scipy.spatial.distance import cosine"
   ]
  },
  {
   "cell_type": "code",
   "execution_count": 2,
   "metadata": {},
   "outputs": [],
   "source": [
    "file_in_name = 'sentences.txt'\n",
    "file_out_name = 'mysubmission-1.txt'"
   ]
  },
  {
   "cell_type": "code",
   "execution_count": 3,
   "metadata": {},
   "outputs": [],
   "source": [
    "sentences = []\n",
    "\n",
    "with open(file_in_name, 'rt') as fh:\n",
    "    for line in fh:\n",
    "        sentence = list(filter(None, re.split(r'[^a-z]+', line.strip().lower())))\n",
    "        if sentence:\n",
    "            sentences.append(sentence)\n",
    "\n",
    "tokens = set(itertools.chain(*sentences))"
   ]
  },
  {
   "cell_type": "code",
   "execution_count": 4,
   "metadata": {},
   "outputs": [
    {
     "name": "stdout",
     "output_type": "stream",
     "text": [
      "22 rows, 254 cols\n"
     ]
    }
   ],
   "source": [
    "rows = len(sentences)    \n",
    "cols = len(tokens)\n",
    "\n",
    "print('{} rows, {} cols'.format(rows, cols))\n",
    "\n",
    "m = np.empty((rows, cols), dtype=int)\n",
    "\n",
    "for i, sentence in enumerate(sentences):\n",
    "    for j, token in enumerate(tokens):\n",
    "        m[i, j] = sentence.count(token)\n"
   ]
  },
  {
   "cell_type": "code",
   "execution_count": 5,
   "metadata": {},
   "outputs": [],
   "source": [
    "first =  m[[0]]\n",
    "dists = np.zeros((rows,))\n",
    "\n",
    "for row in range(1, rows):\n",
    "    other =  m[[row]]\n",
    "    dists[row] = cosine(first, other)"
   ]
  },
  {
   "cell_type": "code",
   "execution_count": 6,
   "metadata": {},
   "outputs": [
    {
     "name": "stdout",
     "output_type": "stream",
     "text": [
      "6 4"
     ]
    }
   ],
   "source": [
    "rows_by_dists = sorted(range(1, rows), key=lambda x: dists[x])\n",
    "\n",
    "with open(file_out_name, 'wt') as fh:\n",
    "    fh.write(' '.join(map(str, rows_by_dists[:2])))\n",
    "    \n",
    "!cat $file_out_name"
   ]
  }
 ],
 "metadata": {
  "kernelspec": {
   "display_name": "Python 3",
   "language": "python",
   "name": "python3"
  },
  "language_info": {
   "codemirror_mode": {
    "name": "ipython",
    "version": 3
   },
   "file_extension": ".py",
   "mimetype": "text/x-python",
   "name": "python",
   "nbconvert_exporter": "python",
   "pygments_lexer": "ipython3",
   "version": "3.6.4"
  }
 },
 "nbformat": 4,
 "nbformat_minor": 2
}
